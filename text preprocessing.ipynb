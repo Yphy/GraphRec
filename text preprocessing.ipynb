{
 "cells": [
  {
   "cell_type": "code",
   "execution_count": 145,
   "metadata": {},
   "outputs": [],
   "source": [
    "import pandas as pd\n",
    "import numpy as np\n",
    "import re \n",
    "\n",
    "df = pd.read_csv('./data/final_data.csv',index_col = 0)"
   ]
  },
  {
   "cell_type": "markdown",
   "metadata": {},
   "source": [
    "## main과 sub속성의 분리 ,결합"
   ]
  },
  {
   "cell_type": "code",
   "execution_count": 146,
   "metadata": {},
   "outputs": [
    {
     "data": {
      "text/plain": [
       "array(['sporty', 'casual', 'modern', 'elegant', 'natural', 'glamorous',\n",
       "       'sophisticated', 'grunge', 'retro', 'romantic', 'sexy', 'military',\n",
       "       'ethnic', 'classic', 'business_casual', 'manish', 'exotic',\n",
       "       'goth_punk_rocker', 'hiphop', 'hippie', 'tomboy', 'preppy',\n",
       "       'kitsch_kidult', 'image_error'], dtype=object)"
      ]
     },
     "execution_count": 146,
     "metadata": {},
     "output_type": "execute_result"
    }
   ],
   "source": [
    "style_df = df.loc[:,['main','sub']]\n",
    "style_df.main.unique()"
   ]
  },
  {
   "cell_type": "code",
   "execution_count": 147,
   "metadata": {},
   "outputs": [
    {
     "data": {
      "text/plain": [
       "array(['sexy', nan, 'sporty', 'glamorous', 'sophisticated',\n",
       "       'business_casual,casual', 'classic', 'modern', 'goth_punk_rocker',\n",
       "       'romantic', 'hippie', 'hippie,retro', 'elegant', 'casual',\n",
       "       'manish', 'ethnic', 'casual,modern', 'retro', 'natural',\n",
       "       'hiphop,military', 'business_casual', 'goth_punk_rocker,romantic',\n",
       "       'grunge', 'casual,romantic', 'casual,sexy',\n",
       "       'elegant,sophisticated', 'natural,romantic', 'romantic,sexy',\n",
       "       'military', 'business_casual,manish', 'exotic,sexy',\n",
       "       'hippie,romantic', 'military,kitsch_kidult', 'casual,hippie',\n",
       "       'exotic', 'ethnic,romantic', 'business_casual,classic',\n",
       "       'romantic,kitsch_kidult', 'romantic,sporty', 'sexy,sporty',\n",
       "       'casual,retro', 'preppy', 'business_casual,sophisticated',\n",
       "       'natural,retro', 'business_casual,manish,retro',\n",
       "       'natural,sophisticated', 'elegant,sexy', 'kitsch_kidult',\n",
       "       'manish,retro', 'exotic,modern,romantic', 'retro,romantic',\n",
       "       'retro,sporty', 'glamorous,romantic', 'ethnic,hippie,romantic',\n",
       "       'retro,sexy', 'manish,sporty', 'hippie,sexy', 'classic,exotic',\n",
       "       'business_casual,modern', 'modern,sophisticated',\n",
       "       'elegant,romantic', 'natural,sexy', 'exotic,hippie',\n",
       "       'exotic,sporty', 'casual,sophisticated', 'exotic,romantic',\n",
       "       'tomboy', 'exotic,retro', 'casual,ethnic', 'elegant,glamorous',\n",
       "       'elegant,romantic,sexy', 'casual,goth_punk_rocker',\n",
       "       'elegant,glamorous,sexy', 'sexy,sophisticated',\n",
       "       'natural,retro,romantic', 'classic,retro', 'ethnic,sophisticated',\n",
       "       'ethnic,manish', 'modern,sexy,sporty', 'goth_punk_rocker,sexy',\n",
       "       'glamorous,sporty', 'modern,sexy', 'manish,modern',\n",
       "       'goth_punk_rocker,modern', 'casual,exotic',\n",
       "       'business_casual,preppy', 'modern,retro', 'hippie,natural',\n",
       "       'hiphop', 'modern,romantic', 'business_casual,exotic',\n",
       "       'casual,kitsch_kidult', 'ethnic,romantic,sexy', 'elegant,ethnic',\n",
       "       'glamorous,sexy', 'business_casual,ethnic', 'retro,sophisticated',\n",
       "       'ethnic,glamorous', 'manish,military', 'casual,glamorous',\n",
       "       'romantic,sexy,sophisticated', 'manish,natural,sophisticated',\n",
       "       'military,sexy', 'glamorous,military',\n",
       "       'ethnic,hippie,natural,sexy', 'modern,sporty',\n",
       "       'glamorous,goth_punk_rocker', 'elegant,exotic', 'manish,sexy',\n",
       "       'casual,military,romantic', 'classic,manish,modern',\n",
       "       'glamorous,retro', 'elegant,modern', 'ethnic,sexy', 'preppy,retro',\n",
       "       'grunge,modern', 'classic,glamorous,sophisticated',\n",
       "       'exotic,natural', 'hiphop,sexy', 'elegant,retro', 'ethnic,sporty',\n",
       "       'glamorous,modern,romantic', 'natural,sporty', 'grunge,romantic',\n",
       "       'casual,retro,sporty', 'romantic,sophisticated', 'military,modern',\n",
       "       'manish,sophisticated', 'casual,elegant', 'casual,manish',\n",
       "       'casual,sporty', 'casual,grunge', 'glamorous,modern',\n",
       "       'casual,manish,modern', 'exotic,sophisticated', 'ethnic,retro',\n",
       "       'casual,modern,romantic', 'hiphop,sporty', 'casual,natural,sexy',\n",
       "       'business_casual,natural', 'retro,tomboy',\n",
       "       'hippie,natural,romantic', 'goth_punk_rocker,hippie',\n",
       "       'exotic,modern', 'manish,modern,sexy', 'casual,hiphop,modern',\n",
       "       'goth_punk_rocker,retro', 'casual,hiphop', 'elegant,sporty',\n",
       "       'classic,manish', 'retro,romantic,sexy', 'classic,modern',\n",
       "       'classic,natural', 'preppy,sporty', 'classic,elegant',\n",
       "       'casual,modern,sporty', 'elegant,exotic,natural', 'casual,natural',\n",
       "       'modern,natural', 'elegant,natural', 'sexy,sophisticated,sporty',\n",
       "       'ethnic,hippie', 'ethnic,natural,romantic',\n",
       "       'goth_punk_rocker,natural,retro', 'military,retro'], dtype=object)"
      ]
     },
     "execution_count": 147,
     "metadata": {},
     "output_type": "execute_result"
    }
   ],
   "source": [
    "style_df['sub'].unique()"
   ]
  },
  {
   "cell_type": "code",
   "execution_count": 225,
   "metadata": {},
   "outputs": [],
   "source": [
    "main_ls = [str(x) for x in style_df['main']]\n",
    "sub_ls = [str(x) for x in style_df['sub']]"
   ]
  },
  {
   "cell_type": "code",
   "execution_count": 248,
   "metadata": {},
   "outputs": [],
   "source": [
    "ls_ = []\n",
    "for i in range(len(main_ls)):\n",
    "    ls_.append(main_ls[i] + ',' + sub_ls[i])\n",
    "    \n",
    "ls = [x.split(',') for x in ls_]"
   ]
  },
  {
   "cell_type": "code",
   "execution_count": 29,
   "metadata": {},
   "outputs": [],
   "source": [
    "def hashtags(data):\n",
    "    data.loc[data.hashtags.isna() == True , 'hashtags' ] = '[]'\n",
    "    for i in range(len(data)):\n",
    "        string = data.hashtags[i].split(' ')\n",
    "        token = []\n",
    "        for j in range(len(string)):\n",
    "            token.append(re.sub('[^A-Za-z0-9가-힣]', '', string[j]))\n",
    "            data['hashtags'][i] = ' '.join(token) \n",
    "            print(i, '/',len(data))\n",
    "    return data"
   ]
  }
 ],
 "metadata": {
  "kernelspec": {
   "display_name": "Python 3",
   "language": "python",
   "name": "python3"
  },
  "language_info": {
   "codemirror_mode": {
    "name": "ipython",
    "version": 3
   },
   "file_extension": ".py",
   "mimetype": "text/x-python",
   "name": "python",
   "nbconvert_exporter": "python",
   "pygments_lexer": "ipython3",
   "version": "3.7.6"
  }
 },
 "nbformat": 4,
 "nbformat_minor": 4
}
