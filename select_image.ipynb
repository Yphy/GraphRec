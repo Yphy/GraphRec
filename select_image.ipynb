{
 "cells": [
  {
   "cell_type": "code",
   "execution_count": 1,
   "metadata": {},
   "outputs": [
    {
     "name": "stderr",
     "output_type": "stream",
     "text": [
      "C:\\Users\\yphy0\\anaconda3\\lib\\site-packages\\IPython\\core\\interactiveshell.py:3063: DtypeWarning: Columns (12,13,14) have mixed types.Specify dtype option on import or set low_memory=False.\n",
      "  interactivity=interactivity, compiler=compiler, result=result)\n",
      "C:\\Users\\yphy0\\anaconda3\\lib\\site-packages\\IPython\\core\\interactiveshell.py:3063: DtypeWarning: Columns (6,7) have mixed types.Specify dtype option on import or set low_memory=False.\n",
      "  interactivity=interactivity, compiler=compiler, result=result)\n"
     ]
    }
   ],
   "source": [
    "import numpy as np\n",
    "import pandas as pd\n",
    "\n",
    "post = pd.read_csv('./data/post.csv',index_col=0)\n",
    "post_by_ac = pd.read_csv('./data/post_account.csv')\n",
    "image_old = pd.read_csv('./data/image_old.csv',index_col = 0) #십만장\n",
    "image = pd.read_csv('./data/image.csv') #칠십만장"
   ]
  },
  {
   "cell_type": "code",
   "execution_count": 2,
   "metadata": {},
   "outputs": [],
   "source": [
    "# labeling이 하나라도 된 것만 정리\n",
    "image_df = pd.concat([image,image_old])\n",
    "image_df = image_df[image_df['is_fashion_image'] == 1].iloc[:,1:]\n",
    "image_df = image_df.loc[:,['image_num','post_id','image_file_name','main','sub','update_at']]\n",
    "image_df = image_df.loc[(image_df.main.isna() == False) | (image_df['sub'].isna() == False), :]"
   ]
  },
  {
   "cell_type": "markdown",
   "metadata": {},
   "source": [
    "labeling 된 것 중 post table의 실제 post_id가 존재하는 것들만 정리"
   ]
  },
  {
   "cell_type": "code",
   "execution_count": 3,
   "metadata": {},
   "outputs": [],
   "source": [
    "id_post = post[['post_id', 'hashtag_crawl']]\n",
    "iteul = image_df.merge(id_post, on='post_id')"
   ]
  },
  {
   "cell_type": "code",
   "execution_count": 4,
   "metadata": {},
   "outputs": [
    {
     "name": "stdout",
     "output_type": "stream",
     "text": [
      "(14616, 7)\n"
     ]
    },
    {
     "data": {
      "text/html": [
       "<div>\n",
       "<style scoped>\n",
       "    .dataframe tbody tr th:only-of-type {\n",
       "        vertical-align: middle;\n",
       "    }\n",
       "\n",
       "    .dataframe tbody tr th {\n",
       "        vertical-align: top;\n",
       "    }\n",
       "\n",
       "    .dataframe thead th {\n",
       "        text-align: right;\n",
       "    }\n",
       "</style>\n",
       "<table border=\"1\" class=\"dataframe\">\n",
       "  <thead>\n",
       "    <tr style=\"text-align: right;\">\n",
       "      <th></th>\n",
       "      <th>image_num</th>\n",
       "      <th>post_id</th>\n",
       "      <th>image_file_name</th>\n",
       "      <th>main</th>\n",
       "      <th>sub</th>\n",
       "      <th>update_at</th>\n",
       "      <th>hashtag_crawl</th>\n",
       "    </tr>\n",
       "  </thead>\n",
       "  <tbody>\n",
       "    <tr>\n",
       "      <th>0</th>\n",
       "      <td>0</td>\n",
       "      <td>B0inTODp7Jo</td>\n",
       "      <td>B0inTODp7Jo_0</td>\n",
       "      <td>casual</td>\n",
       "      <td>NaN</td>\n",
       "      <td>2019-08-08 15:19:35</td>\n",
       "      <td>style</td>\n",
       "    </tr>\n",
       "    <tr>\n",
       "      <th>1</th>\n",
       "      <td>0</td>\n",
       "      <td>B0ioDCfn2z0</td>\n",
       "      <td>B0ioDCfn2z0_0</td>\n",
       "      <td>modern</td>\n",
       "      <td>NaN</td>\n",
       "      <td>2019-08-08 15:22:59</td>\n",
       "      <td>style</td>\n",
       "    </tr>\n",
       "    <tr>\n",
       "      <th>2</th>\n",
       "      <td>0</td>\n",
       "      <td>B0ioh0rnRv_</td>\n",
       "      <td>B0ioh0rnRv__0</td>\n",
       "      <td>casual</td>\n",
       "      <td>NaN</td>\n",
       "      <td>2019-08-08 15:23:09</td>\n",
       "      <td>style</td>\n",
       "    </tr>\n",
       "    <tr>\n",
       "      <th>3</th>\n",
       "      <td>0</td>\n",
       "      <td>B0ioNSVJDk1</td>\n",
       "      <td>B0ioNSVJDk1_0</td>\n",
       "      <td>sophisticated</td>\n",
       "      <td>ethnic</td>\n",
       "      <td>2019-08-08 15:27:26</td>\n",
       "      <td>style</td>\n",
       "    </tr>\n",
       "    <tr>\n",
       "      <th>4</th>\n",
       "      <td>0</td>\n",
       "      <td>B0iqaKuArXw</td>\n",
       "      <td>B0iqaKuArXw_0</td>\n",
       "      <td>casual</td>\n",
       "      <td>tomboy</td>\n",
       "      <td>2019-08-08 15:28:43</td>\n",
       "      <td>style</td>\n",
       "    </tr>\n",
       "  </tbody>\n",
       "</table>\n",
       "</div>"
      ],
      "text/plain": [
       "   image_num      post_id image_file_name           main     sub  \\\n",
       "0          0  B0inTODp7Jo   B0inTODp7Jo_0         casual     NaN   \n",
       "1          0  B0ioDCfn2z0   B0ioDCfn2z0_0         modern     NaN   \n",
       "2          0  B0ioh0rnRv_   B0ioh0rnRv__0         casual     NaN   \n",
       "3          0  B0ioNSVJDk1   B0ioNSVJDk1_0  sophisticated  ethnic   \n",
       "4          0  B0iqaKuArXw   B0iqaKuArXw_0         casual  tomboy   \n",
       "\n",
       "             update_at hashtag_crawl  \n",
       "0  2019-08-08 15:19:35         style  \n",
       "1  2019-08-08 15:22:59         style  \n",
       "2  2019-08-08 15:23:09         style  \n",
       "3  2019-08-08 15:27:26         style  \n",
       "4  2019-08-08 15:28:43         style  "
      ]
     },
     "execution_count": 4,
     "metadata": {},
     "output_type": "execute_result"
    }
   ],
   "source": [
    "print(iteul.shape)\n",
    "iteul.head()"
   ]
  },
  {
   "cell_type": "markdown",
   "metadata": {},
   "source": [
    "# image select"
   ]
  },
  {
   "cell_type": "markdown",
   "metadata": {},
   "source": [
    "### 실제 DB에 저장되어있는 image중 위의 14516개의 사진만 뽑아내어 해쉬태그별 폴더로 옮기는 코드"
   ]
  },
  {
   "cell_type": "code",
   "execution_count": 5,
   "metadata": {},
   "outputs": [],
   "source": [
    "import pandas as pd\n",
    "import os\n",
    "import shutil"
   ]
  },
  {
   "cell_type": "code",
   "execution_count": 10,
   "metadata": {},
   "outputs": [],
   "source": [
    "original_root ='C:/Users/yphy0/Desktop/wearly_project/instagram_image/wearly_images/'\n",
    "move_root = 'C:/Users/yphy0/Desktop/selected_image'"
   ]
  },
  {
   "cell_type": "code",
   "execution_count": 29,
   "metadata": {},
   "outputs": [],
   "source": [
    "hashtag_crawl = list(set(iteul.hashtag_crawl)) #24개\n",
    "folder_ls = [original_root + x for x in hashtag_crawl]\n",
    "\n",
    "file_name_ls = [os.listdir(i) for i in folder_ls]"
   ]
  },
  {
   "cell_type": "markdown",
   "metadata": {},
   "source": [
    "# 파일 이동\n",
    "파일 복사보다 시간빠름"
   ]
  },
  {
   "cell_type": "code",
   "execution_count": null,
   "metadata": {},
   "outputs": [],
   "source": [
    "def move_image_file():\n",
    "    original_root ='C:/Users/yphy0/Desktop/wearly_project/instagram_image/wearly_images/'\n",
    "    move_root = 'C:/Users/yphy0/Desktop/selected_image' \n",
    "\n",
    "    for i in hashtag_ls:\n",
    "        os.mkdir(dir_path + \"/\" + i + \"/\")\n",
    "\n",
    "    original_root_ls = [] \n",
    "    move_root_ls = [] \n",
    "    for i in hashtag_ls:\n",
    "        original_root_ls.append(original_root + i)\n",
    "        move_root_ls.append(move_root + '/' + i)\n",
    "\n",
    "    for i in range(0,len(file_name_ls)):\n",
    "        for j in file_name_ls[i]:\n",
    "            try:\n",
    "                shutil.move(original_root_ls[i]+'/' + j, move_root_ls[i])\n",
    "            except:\n",
    "                pass"
   ]
  },
  {
   "cell_type": "markdown",
   "metadata": {},
   "source": [
    "# 파일 복사"
   ]
  },
  {
   "cell_type": "code",
   "execution_count": null,
   "metadata": {},
   "outputs": [],
   "source": [
    "# def copy_image_file():\n",
    "#     original_root ='C:/Users/yphy0/Desktop/wearly_project/instagram_image/wearly_images/'\n",
    "#     move_root = 'C:/Users/yphy0/Desktop/selected_image' \n",
    "\n",
    "#     for i in hashtag_ls:\n",
    "#         os.mkdir(dir_path + \"/\" + i + \"/\")\n",
    "\n",
    "#     original_root_ls = [] \n",
    "#     move_root_ls = [] \n",
    "#     for i in hashtag_ls:\n",
    "#         original_root_ls.append(original_root + i)\n",
    "#         move_root_ls.append(move_root + '/' + i)\n",
    "\n",
    "#     for i in range(0,len(file_name_ls)):\n",
    "#         for j in file_name_ls[i]:\n",
    "#             try:\n",
    "#                 shutil.copy(original_root_ls[i]+'/' + j, move_root_ls[i])\n",
    "#             except:\n",
    "#                 pass"
   ]
  },
  {
   "cell_type": "code",
   "execution_count": null,
   "metadata": {},
   "outputs": [],
   "source": [
    "move_image_file()"
   ]
  }
 ],
 "metadata": {
  "kernelspec": {
   "display_name": "Python 3",
   "language": "python",
   "name": "python3"
  },
  "language_info": {
   "codemirror_mode": {
    "name": "ipython",
    "version": 3
   },
   "file_extension": ".py",
   "mimetype": "text/x-python",
   "name": "python",
   "nbconvert_exporter": "python",
   "pygments_lexer": "ipython3",
   "version": "3.7.6"
  }
 },
 "nbformat": 4,
 "nbformat_minor": 4
}
