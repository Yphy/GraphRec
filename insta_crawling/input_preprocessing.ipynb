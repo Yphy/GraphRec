{
 "cells": [
  {
   "cell_type": "code",
   "execution_count": 1,
   "metadata": {},
   "outputs": [],
   "source": [
    "import numpy as np\n",
    "import pandas as pd"
   ]
  },
  {
   "cell_type": "code",
   "execution_count": 4,
   "metadata": {},
   "outputs": [],
   "source": [
    "df = pd.read_excel('./resources/인스타그램계정.xlsx').iloc[1:,:]"
   ]
  },
  {
   "cell_type": "code",
   "execution_count": 64,
   "metadata": {},
   "outputs": [],
   "source": [
    "brand_ls = [x for x in df[df['브랜드(쇼핑몰)']==1].계정] #148\n",
    "magazine_ls = [x for x in df[df['잡지']==1].계정]\n",
    "etc_ls =  [x for x in df[df['기타']==1].계정]\n",
    "influencer_ls = [x for x in df[df['셀럽']==1].계정]\n",
    "ex_brand_ls = magazine_ls + etc_ls + influencer_ls #154"
   ]
  },
  {
   "cell_type": "code",
   "execution_count": 57,
   "metadata": {},
   "outputs": [],
   "source": [
    "with open('./resources/brand.txt','w',-1,'utf-8') as f:\n",
    "    for line in brand_ls:\n",
    "        f.write(line+'\\n')"
   ]
  },
  {
   "cell_type": "code",
   "execution_count": 66,
   "metadata": {},
   "outputs": [],
   "source": [
    "with open('./resources/ex_brand.txt','w',-1,'utf-8') as f:\n",
    "    for line in ex_brand_ls:\n",
    "        f.write(line+'\\n')"
   ]
  }
 ],
 "metadata": {
  "kernelspec": {
   "display_name": "Python 3",
   "language": "python",
   "name": "python3"
  },
  "language_info": {
   "codemirror_mode": {
    "name": "ipython",
    "version": 3
   },
   "file_extension": ".py",
   "mimetype": "text/x-python",
   "name": "python",
   "nbconvert_exporter": "python",
   "pygments_lexer": "ipython3",
   "version": "3.8.5"
  }
 },
 "nbformat": 4,
 "nbformat_minor": 4
}
