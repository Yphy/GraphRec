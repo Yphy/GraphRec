{
 "cells": [
  {
   "cell_type": "code",
   "execution_count": 1,
   "metadata": {},
   "outputs": [],
   "source": [
    "import numpy as np\n",
    "import pandas as pd"
   ]
  },
  {
   "cell_type": "code",
   "execution_count": 2,
   "metadata": {},
   "outputs": [],
   "source": [
    "df = pd.read_csv('./data/final_df.csv',index_col=0)"
   ]
  },
  {
   "cell_type": "markdown",
   "metadata": {},
   "source": [
    "## Style to vector"
   ]
  },
  {
   "cell_type": "code",
   "execution_count": null,
   "metadata": {},
   "outputs": [],
   "source": [
    "style_ls = [x for x in df.main.unique()]\n",
    "\n",
    "style_df = df.loc[:,['style']]\n",
    "style_df['style'] = [x.split(',') for x in style_df['style']]\n"
   ]
  },
  {
   "cell_type": "code",
   "execution_count": null,
   "metadata": {},
   "outputs": [],
   "source": [
    "tmp = pd.DataFrame(index = style_df.index, columns = style_ls )\n",
    "\n",
    "for idx,i in enumerate(style_df['style']):\n",
    "    if len(i) == 1:\n",
    "        tmp.loc[idx,i[0]] = 1\n",
    "    elif len(i) == 2:\n",
    "        tmp.loc[idx,i[0]] = 1\n",
    "        tmp.loc[idx,i[1]] = 1\n",
    "    elif len(i) == 3:\n",
    "        tmp.loc[idx,i[0]] = 1\n",
    "        tmp.loc[idx,i[1]] = 1\n",
    "        tmp.loc[idx,i[2]] = 1\n",
    "    \n",
    "    elif len(i) == 4:\n",
    "        tmp.loc[idx,i[0]] = 1\n",
    "        tmp.loc[idx,i[1]] = 1\n",
    "        tmp.loc[idx,i[2]] = 1\n",
    "        tmp.loc[idx,i[3]] = 1\n",
    "        \n",
    "    elif len(i) == 5:\n",
    "        tmp.loc[idx,i[0]] = 1\n",
    "        tmp.loc[idx,i[1]] = 1\n",
    "        tmp.loc[idx,i[2]] = 1\n",
    "        tmp.loc[idx,i[3]] = 1\n",
    "        tmp.loc[idx,i[4]] = 1\n",
    "    \n",
    "tmp = tmp.fillna(0)\n",
    "        \n",
    "tmp"
   ]
  }
 ],
 "metadata": {
  "kernelspec": {
   "display_name": "Python 3",
   "language": "python",
   "name": "python3"
  },
  "language_info": {
   "codemirror_mode": {
    "name": "ipython",
    "version": 3
   },
   "file_extension": ".py",
   "mimetype": "text/x-python",
   "name": "python",
   "nbconvert_exporter": "python",
   "pygments_lexer": "ipython3",
   "version": "3.7.6"
  }
 },
 "nbformat": 4,
 "nbformat_minor": 4
}
