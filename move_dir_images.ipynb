{
 "cells": [
  {
   "cell_type": "code",
   "execution_count": 107,
   "metadata": {},
   "outputs": [],
   "source": [
    "import shutil"
   ]
  },
  {
   "cell_type": "code",
   "execution_count": 52,
   "metadata": {},
   "outputs": [],
   "source": [
    "import numpy as np\n",
    "import pandas as pd\n",
    "import os\n",
    "\n",
    "df = pd.read_csv('./data/iteul.csv',index_col=0)\n",
    "del_df = df[(df.main == 'image_error') | (df.main == 'None')]\n",
    "df = df[(df.main != 'image_error') & (df.main != 'None')] # 'immage_error', 'None' 제외"
   ]
  },
  {
   "cell_type": "code",
   "execution_count": 53,
   "metadata": {},
   "outputs": [],
   "source": [
    "original_root ='C:/Users/yphy0/Desktop/selected_image/' #한번이동시킨경로\n",
    "move_root = 'C:/Users/yphy0/Desktop/deleted_image' #또 이동시킬경로 새로 지정\n",
    "dir_path = 'C:/Users/yphy0/Desktop/deleted_image'\n",
    "\n",
    "hashtag_ls = list(set(del_df.hashtag_crawl)) #24개\n",
    "folder_ls = [original_root + x for x in hashtag_ls]\n",
    "\n",
    "file_name_ls = [os.listdir(i) for i in folder_ls]"
   ]
  },
  {
   "cell_type": "code",
   "execution_count": 72,
   "metadata": {},
   "outputs": [],
   "source": [
    "del_ls = [x for x in del_df.image_file_name + '.jpg']"
   ]
  },
  {
   "cell_type": "code",
   "execution_count": 109,
   "metadata": {},
   "outputs": [],
   "source": [
    "def move_image_file():\n",
    "\n",
    "    for i in hashtag_ls: #이동할경로에 폴더 생성\n",
    "        os.mkdir(dir_path + \"/\" + i + \"/\")\n",
    "\n",
    "    original_root_ls = [] \n",
    "    move_root_ls = [] \n",
    "    for i in hashtag_ls: #\n",
    "        original_root_ls.append(original_root + i)\n",
    "        move_root_ls.append(move_root + '/' + i)\n",
    "\n",
    "    for i in range(0,len(file_name_ls)):\n",
    "        for j in del_ls:\n",
    "            try:\n",
    "                shutil.move(original_root_ls[i]+ '/' + j, move_root_ls[i])\n",
    "            except:\n",
    "                pass"
   ]
  },
  {
   "cell_type": "code",
   "execution_count": 110,
   "metadata": {},
   "outputs": [],
   "source": [
    "move_image_file()"
   ]
  }
 ],
 "metadata": {
  "kernelspec": {
   "display_name": "Python 3",
   "language": "python",
   "name": "python3"
  },
  "language_info": {
   "codemirror_mode": {
    "name": "ipython",
    "version": 3
   },
   "file_extension": ".py",
   "mimetype": "text/x-python",
   "name": "python",
   "nbconvert_exporter": "python",
   "pygments_lexer": "ipython3",
   "version": "3.7.6"
  }
 },
 "nbformat": 4,
 "nbformat_minor": 4
}
